{
  "nbformat": 4,
  "nbformat_minor": 0,
  "metadata": {
    "colab": {
      "provenance": [],
      "authorship_tag": "ABX9TyO4SsjYQXPQHPkbqyEk+ALl",
      "include_colab_link": true
    },
    "kernelspec": {
      "name": "python3",
      "display_name": "Python 3"
    },
    "language_info": {
      "name": "python"
    }
  },
  "cells": [
    {
      "cell_type": "markdown",
      "metadata": {
        "id": "view-in-github",
        "colab_type": "text"
      },
      "source": [
        "<a href=\"https://colab.research.google.com/github/AnjaliDharmik/chicken_disease_classification/blob/main/templates.ipynb\" target=\"_parent\"><img src=\"https://colab.research.google.com/assets/colab-badge.svg\" alt=\"Open In Colab\"/></a>"
      ]
    },
    {
      "cell_type": "code",
      "execution_count": null,
      "metadata": {
        "id": "Sg4hIxxqvDGD"
      },
      "outputs": [],
      "source": [
        "import os\n",
        "from pathlib import Path\n",
        "import logging\n",
        "\n",
        "logging.basicConfig(level=logging.INFO, format='[%(asctime)s]: %(message)s:')\n",
        "\n",
        "\n",
        "project_name = \"cnnClassifier\"\n",
        "\n",
        "list_of_files = [\n",
        "    \".github/workflows/.gitkeep\",\n",
        "    f\"src/{project_name}/__init__.py\",\n",
        "    f\"src/{project_name}/components/__init__.py\",\n",
        "    f\"src/{project_name}/utils/__init__.py\",\n",
        "    f\"src/{project_name}/config/__init__.py\",\n",
        "    f\"src/{project_name}/config/configuration.py\",\n",
        "    f\"src/{project_name}/pipeline/__init__.py\",\n",
        "    f\"src/{project_name}/entity/__init__.py\",\n",
        "    f\"src/{project_name}/constants/__init__.py\",\n",
        "    \"config/config.yaml\",\n",
        "    \"dvc.yaml\",\n",
        "    \"params.yaml\",\n",
        "    \"requirements.txt\",\n",
        "    \"setup.py\",\n",
        "    \"research/trials.ipynb\",\n",
        "    \"templates/index.html\"\n",
        "\n",
        "\n",
        "]\n",
        "\n",
        "\n",
        "for filepath in list_of_files:\n",
        "    filepath = Path(filepath)\n",
        "    filedir, filename = os.path.split(filepath)\n",
        "\n",
        "\n",
        "    if filedir !=\"\":\n",
        "        os.makedirs(filedir, exist_ok=True)\n",
        "        logging.info(f\"Creating directory; {filedir} for the file: {filename}\")\n",
        "\n",
        "    if (not os.path.exists(filepath)) or (os.path.getsize(filepath) == 0):\n",
        "        with open(filepath, \"w\") as f:\n",
        "            pass\n",
        "            logging.info(f\"Creating empty file: {filepath}\")\n",
        "\n",
        "\n",
        "    else:\n",
        "        logging.info(f\"{filename} is already exists\")"
      ]
    }
  ]
}